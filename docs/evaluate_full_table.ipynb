{
 "cells": [
  {
   "cell_type": "code",
   "execution_count": 1,
   "metadata": {},
   "outputs": [],
   "source": [
    "import logging"
   ]
  },
  {
   "cell_type": "code",
   "execution_count": 2,
   "metadata": {},
   "outputs": [],
   "source": [
    "logging.basicConfig(level=\"INFO\", format=\"[%(name)s - %(levelname)s] %(message)s\")"
   ]
  },
  {
   "cell_type": "code",
   "execution_count": 3,
   "metadata": {},
   "outputs": [],
   "source": [
    "ROOT = logging.getLogger()"
   ]
  },
  {
   "cell_type": "code",
   "execution_count": 4,
   "metadata": {},
   "outputs": [],
   "source": [
    "import pandas as pd"
   ]
  },
  {
   "cell_type": "code",
   "execution_count": 5,
   "metadata": {},
   "outputs": [],
   "source": [
    "import sanger_sequencing"
   ]
  },
  {
   "cell_type": "code",
   "execution_count": 6,
   "metadata": {},
   "outputs": [],
   "source": [
    "from pandas import read_excel\n",
    "\n",
    "def tube_samples(filepath):\n",
    "    \"\"\"Read the particular excel file into a pandas.DataFrame.\"\"\"\n",
    "    df = read_excel(filepath, converters={\n",
    "        \"Primer ID\": str,\n",
    "        \"Plasmid ID\": str\n",
    "    })\n",
    "    df.dropna(how=\"any\", inplace=True)\n",
    "    return df"
   ]
  },
  {
   "cell_type": "code",
   "execution_count": 7,
   "metadata": {},
   "outputs": [
    {
     "data": {
      "text/html": [
       "<div>\n",
       "<style scoped>\n",
       "    .dataframe tbody tr th:only-of-type {\n",
       "        vertical-align: middle;\n",
       "    }\n",
       "\n",
       "    .dataframe tbody tr th {\n",
       "        vertical-align: top;\n",
       "    }\n",
       "\n",
       "    .dataframe thead th {\n",
       "        text-align: right;\n",
       "    }\n",
       "</style>\n",
       "<table border=\"1\" class=\"dataframe\">\n",
       "  <thead>\n",
       "    <tr style=\"text-align: right;\">\n",
       "      <th></th>\n",
       "      <th>Rack Position</th>\n",
       "      <th>Tube Code</th>\n",
       "      <th>Your Name</th>\n",
       "      <th>Plasmid ID</th>\n",
       "      <th>Primer ID</th>\n",
       "    </tr>\n",
       "  </thead>\n",
       "  <tbody>\n",
       "    <tr>\n",
       "      <th>0</th>\n",
       "      <td>A1</td>\n",
       "      <td>FR14453230</td>\n",
       "      <td>cpgfp_a_14617</td>\n",
       "      <td>7138</td>\n",
       "      <td>14617</td>\n",
       "    </tr>\n",
       "    <tr>\n",
       "      <th>1</th>\n",
       "      <td>B1</td>\n",
       "      <td>FR14453231</td>\n",
       "      <td>cpgfp_a_20691</td>\n",
       "      <td>7138</td>\n",
       "      <td>20691</td>\n",
       "    </tr>\n",
       "    <tr>\n",
       "      <th>2</th>\n",
       "      <td>C1</td>\n",
       "      <td>FR14453232</td>\n",
       "      <td>cpgfp_a_20692</td>\n",
       "      <td>7138</td>\n",
       "      <td>20692</td>\n",
       "    </tr>\n",
       "    <tr>\n",
       "      <th>3</th>\n",
       "      <td>D1</td>\n",
       "      <td>FR14453233</td>\n",
       "      <td>cpgfp_a_14619</td>\n",
       "      <td>7138</td>\n",
       "      <td>14619</td>\n",
       "    </tr>\n",
       "    <tr>\n",
       "      <th>4</th>\n",
       "      <td>E1</td>\n",
       "      <td>FR14453234</td>\n",
       "      <td>cpgfp_b_14617</td>\n",
       "      <td>7138</td>\n",
       "      <td>14617</td>\n",
       "    </tr>\n",
       "  </tbody>\n",
       "</table>\n",
       "</div>"
      ],
      "text/plain": [
       "  Rack Position   Tube Code      Your Name Plasmid ID Primer ID\n",
       "0            A1  FR14453230  cpgfp_a_14617       7138     14617\n",
       "1            B1  FR14453231  cpgfp_a_20691       7138     20691\n",
       "2            C1  FR14453232  cpgfp_a_20692       7138     20692\n",
       "3            D1  FR14453233  cpgfp_a_14619       7138     14619\n",
       "4            E1  FR14453234  cpgfp_b_14617       7138     14617"
      ]
     },
     "execution_count": 7,
     "metadata": {},
     "output_type": "execute_result"
    }
   ],
   "source": [
    "old_template = tube_samples(\"../sanger-service/cfb/tests/data/Mix2Seq_SA00360224_sample.xls\")\n",
    "old_template.head()"
   ]
  },
  {
   "cell_type": "code",
   "execution_count": 8,
   "metadata": {},
   "outputs": [],
   "source": [
    "from glob import glob"
   ]
  },
  {
   "cell_type": "code",
   "execution_count": 9,
   "metadata": {},
   "outputs": [],
   "source": [
    "from Bio import SeqIO"
   ]
  },
  {
   "cell_type": "code",
   "execution_count": 10,
   "metadata": {},
   "outputs": [],
   "source": [
    "from os.path import splitext, basename"
   ]
  },
  {
   "cell_type": "code",
   "execution_count": 11,
   "metadata": {},
   "outputs": [],
   "source": [
    "def genbank_db(samples):\n",
    "    db = dict()\n",
    "    for plasmid_id in samples[\"Plasmid ID\"].unique():\n",
    "        path = glob(f\"../sanger-service/cfb/tests/data/pCfB{plasmid_id}*.gbk\")[0]\n",
    "        db[plasmid_id] = splitext(basename(path))[0], SeqIO.read(path, \"gb\")\n",
    "    return db"
   ]
  },
  {
   "cell_type": "code",
   "execution_count": 12,
   "metadata": {},
   "outputs": [],
   "source": [
    "plasmids = genbank_db(old_template)"
   ]
  },
  {
   "cell_type": "code",
   "execution_count": 13,
   "metadata": {},
   "outputs": [
    {
     "data": {
      "text/plain": [
       "{'7138': ('pCfB7138 (pIntC_3_PrTEFint-CpFAH-hrGFPTLip2)',\n",
       "  SeqRecord(seq=Seq('GAATGCGTGCGATAAAAAACTGTAGTAGTGTGGTGATGGAGTCATAACCCGCTC...CGC', IUPACAmbiguousDNA()), id='pCfB4366\\\\(pIntG-Nat-TPex20-TLip2).0', name='pCfB7138_(pIntC_3_PrTEFint-CpFAH-hrGFPTLip2)', description='', dbxrefs=[])),\n",
       " '7139': ('pCfB7139 (pIntC_3_PrTEFint-SmOhy-hrGFP-TLip2)',\n",
       "  SeqRecord(seq=Seq('GAATGCGTGCGATAAAAAACTGTAGTAGTGTGGTGATGGAGTCATAACCCGCTC...CGC', IUPACAmbiguousDNA()), id='pCfB4366\\\\(pIntG-Nat-TPex20-TLip2).0', name='pCfB7139_(pIntC_3_PrTEFint-SmOhy-hrGFP-TLip2)', description='', dbxrefs=[])),\n",
       " '7140': ('pCfB7140 (pIntC_3_PrTEFint-LaLhy-hrGFP-TLip2)',\n",
       "  SeqRecord(seq=Seq('GAATGCGTGCGATAAAAAACTGTAGTAGTGTGGTGATGGAGTCATAACCCGCTC...CGC', IUPACAmbiguousDNA()), id='pCfB4366\\\\(pIntG-Nat-TPex20-TLip2).0', name='pCfB7140_(pIntC_3_PrTEFint-LaLhy-hrGFP-TLip2)', description='', dbxrefs=[])),\n",
       " '7135': ('pCfB7135 (pIntD_1-_PrTEFint-CpFAH-PTS1-TLip2)',\n",
       "  SeqRecord(seq=Seq('GAATGCGTGCGATAAAAAACTGTAGTAGTGTGGTGATGGAGTCATAACCCGCTC...CGC', IUPACAmbiguousDNA()), id='pCfB4366\\\\(pIntG-Nat-TPex20-TLip2).0', name='pCfB7135_(pIntD_1->PrTEFint-CpFAH-PTS1-TLip2)', description='', dbxrefs=[])),\n",
       " '7136': ('pCfB7136 (pIntD_1-_PrTEFint-SmOhy-PTS1-TLip2)',\n",
       "  SeqRecord(seq=Seq('GAATGCGTGCGATAAAAAACTGTAGTAGTGTGGTGATGGAGTCATAACCCGCTC...CGC', IUPACAmbiguousDNA()), id='pCfB4366\\\\(pIntG-Nat-TPex20-TLip2).0', name='pCfB7136_(pIntD_1->PrTEFint-SmOhy-PTS1-TLip2)', description='', dbxrefs=[]))}"
      ]
     },
     "execution_count": 13,
     "metadata": {},
     "output_type": "execute_result"
    }
   ],
   "source": [
    "plasmids"
   ]
  },
  {
   "cell_type": "code",
   "execution_count": 14,
   "metadata": {},
   "outputs": [],
   "source": [
    "from os.path import basename, splitext\n",
    "\n",
    "def ab1_filter(filepath) -> bool:\n",
    "    \"\"\"Select non-hidden ab1 files.\"\"\"\n",
    "    if basename(filepath).startswith('.'):\n",
    "        return False\n",
    "    return splitext(filepath)[1].lower().endswith('.ab1')"
   ]
  },
  {
   "cell_type": "code",
   "execution_count": 15,
   "metadata": {},
   "outputs": [],
   "source": [
    "def get_tube_code(filepath) -> str:\n",
    "    \"\"\"Extract the tube code part from a filename.\"\"\"\n",
    "    return splitext(basename(filepath))[0].split(\"_\")[-1]"
   ]
  },
  {
   "cell_type": "code",
   "execution_count": 16,
   "metadata": {},
   "outputs": [],
   "source": [
    "from zipfile import ZipFile\n",
    "from io import BytesIO\n",
    "\n",
    "def parse_tube_ab1(archive: ZipFile,\n",
    "                   tube_codes):\n",
    "    \"\"\"Read particular ab1 sequences from an archive.\"\"\"\n",
    "    sequences = dict()\n",
    "    # Create a tube code -> file name map from the archive's contents.\n",
    "    names = {get_tube_code(f): f for f in filter(\n",
    "        ab1_filter, archive.namelist())}\n",
    "    # Try to extract all desired sequences.\n",
    "    for code in tube_codes:\n",
    "        if code not in names:\n",
    "            LOGGER.error(\"No ab1 file found for tube with code '%s'.\", code)\n",
    "            continue\n",
    "        with archive.open(names[code]) as file_handle:\n",
    "            # We use `SeqIO.read` because ab1 files contain only a single\n",
    "            # sequence record.\n",
    "            sequences[code] = SeqIO.read(BytesIO(file_handle.read()), 'abi')\n",
    "    return sequences"
   ]
  },
  {
   "cell_type": "code",
   "execution_count": 17,
   "metadata": {},
   "outputs": [],
   "source": [
    "def extract_sequences(template, archive):\n",
    "    return parse_tube_ab1(archive, template['Tube Code'].unique())"
   ]
  },
  {
   "cell_type": "code",
   "execution_count": 18,
   "metadata": {},
   "outputs": [],
   "source": [
    "zip_path = \"../sanger-service/cfb/tests/data/11104089228-1_SCF_SEQ_ABI.zip\""
   ]
  },
  {
   "cell_type": "code",
   "execution_count": 19,
   "metadata": {},
   "outputs": [],
   "source": [
    "with ZipFile(zip_path) as archive:\n",
    "    samples = extract_sequences(old_template, archive)"
   ]
  },
  {
   "cell_type": "code",
   "execution_count": 20,
   "metadata": {},
   "outputs": [],
   "source": [
    "from pandas import DataFrame"
   ]
  },
  {
   "cell_type": "code",
   "execution_count": 21,
   "metadata": {},
   "outputs": [],
   "source": [
    "template = DataFrame({\n",
    "    \"plasmid\": old_template[\"Plasmid ID\"],\n",
    "    \"primer\": old_template[\"Primer ID\"],\n",
    "    \"sample\": old_template[\"Tube Code\"]\n",
    "})"
   ]
  },
  {
   "cell_type": "code",
   "execution_count": 22,
   "metadata": {},
   "outputs": [],
   "source": [
    "new_plasmids = {pid: seq for pid, (name, seq) in plasmids.items()}"
   ]
  },
  {
   "cell_type": "code",
   "execution_count": 23,
   "metadata": {},
   "outputs": [
    {
     "data": {
      "text/html": [
       "<div>\n",
       "<style scoped>\n",
       "    .dataframe tbody tr th:only-of-type {\n",
       "        vertical-align: middle;\n",
       "    }\n",
       "\n",
       "    .dataframe tbody tr th {\n",
       "        vertical-align: top;\n",
       "    }\n",
       "\n",
       "    .dataframe thead th {\n",
       "        text-align: right;\n",
       "    }\n",
       "</style>\n",
       "<table border=\"1\" class=\"dataframe\">\n",
       "  <thead>\n",
       "    <tr style=\"text-align: right;\">\n",
       "      <th></th>\n",
       "      <th>plasmid</th>\n",
       "      <th>primer</th>\n",
       "      <th>sample</th>\n",
       "    </tr>\n",
       "  </thead>\n",
       "  <tbody>\n",
       "    <tr>\n",
       "      <th>0</th>\n",
       "      <td>7138</td>\n",
       "      <td>14617</td>\n",
       "      <td>FR14453230</td>\n",
       "    </tr>\n",
       "    <tr>\n",
       "      <th>1</th>\n",
       "      <td>7138</td>\n",
       "      <td>20691</td>\n",
       "      <td>FR14453231</td>\n",
       "    </tr>\n",
       "    <tr>\n",
       "      <th>2</th>\n",
       "      <td>7138</td>\n",
       "      <td>20692</td>\n",
       "      <td>FR14453232</td>\n",
       "    </tr>\n",
       "    <tr>\n",
       "      <th>3</th>\n",
       "      <td>7138</td>\n",
       "      <td>14619</td>\n",
       "      <td>FR14453233</td>\n",
       "    </tr>\n",
       "    <tr>\n",
       "      <th>4</th>\n",
       "      <td>7138</td>\n",
       "      <td>14617</td>\n",
       "      <td>FR14453234</td>\n",
       "    </tr>\n",
       "  </tbody>\n",
       "</table>\n",
       "</div>"
      ],
      "text/plain": [
       "  plasmid primer      sample\n",
       "0    7138  14617  FR14453230\n",
       "1    7138  20691  FR14453231\n",
       "2    7138  20692  FR14453232\n",
       "3    7138  14619  FR14453233\n",
       "4    7138  14617  FR14453234"
      ]
     },
     "execution_count": 23,
     "metadata": {},
     "output_type": "execute_result"
    }
   ],
   "source": [
    "template.head()"
   ]
  },
  {
   "cell_type": "code",
   "execution_count": 24,
   "metadata": {},
   "outputs": [],
   "source": [
    "from sanger_sequencing.api import plasmid_report"
   ]
  },
  {
   "cell_type": "code",
   "execution_count": 25,
   "metadata": {},
   "outputs": [],
   "source": [
    "ROOT.setLevel(logging.INFO)"
   ]
  },
  {
   "cell_type": "code",
   "execution_count": 26,
   "metadata": {
    "scrolled": true
   },
   "outputs": [
    {
     "name": "stderr",
     "output_type": "stream",
     "text": [
      "[sanger_sequencing.api - INFO] Analyze plasmid '7138'.\n",
      "[sanger_sequencing.api - INFO] Analyze sample 'FR14453230'.\n",
      "[sanger_sequencing.api - INFO] Analyze sample 'FR14453231'.\n",
      "[sanger_sequencing.api - INFO] Analyze sample 'FR14453232'.\n",
      "[sanger_sequencing.api - INFO] Analyze sample 'FR14453233'.\n",
      "[sanger_sequencing.analysis.alignment - INFO] Trying reverse complement!\n",
      "[sanger_sequencing.api - INFO] Analyze sample 'FR14453234'.\n",
      "[sanger_sequencing.analysis.summary - INFO] Assessing 5 conflicts.\n",
      "[sanger_sequencing.analysis.summary - INFO] Assessing 5 conflicts.\n",
      "[sanger_sequencing.analysis.summary - INFO] Assessing 5 conflicts.\n",
      "[sanger_sequencing.analysis.summary - INFO] Assessing 5 conflicts.\n",
      "[sanger_sequencing.analysis.summary - INFO] Assessing 5 conflicts.\n"
     ]
    }
   ],
   "source": [
    "report = plasmid_report(\"7138\", new_plasmids[\"7138\"], template[:5], samples)"
   ]
  },
  {
   "cell_type": "code",
   "execution_count": 27,
   "metadata": {},
   "outputs": [
    {
     "data": {
      "text/plain": [
       "[]"
      ]
     },
     "execution_count": 27,
     "metadata": {},
     "output_type": "execute_result"
    }
   ],
   "source": [
    "report[\"samples\"][0][\"conflicts\"]"
   ]
  },
  {
   "cell_type": "code",
   "execution_count": 28,
   "metadata": {},
   "outputs": [
    {
     "name": "stdout",
     "output_type": "stream",
     "text": [
      "[]\n",
      "[]\n",
      "[OrderedDict([('plasmid_pos', 2569.0), ('sample_pos', nan), ('plasmid_chr', 'C'), ('sample_chr', '-'), ('quality', nan), ('sample', 'FR14453232'), ('primer', '20692'), ('type', 'deletion'), ('avgQuality', 'high'), ('confirmed', 0), ('invalidated', 2), ('featuresHit', [('promoter', ['PrTEFintron'])]), ('effect', [])]), OrderedDict([('plasmid_pos', nan), ('sample_pos', 713.0), ('plasmid_chr', '-'), ('sample_chr', 'T'), ('quality', 13.0), ('sample', 'FR14453232'), ('primer', '20692'), ('type', 'insertion'), ('avgQuality', 'high'), ('confirmed', 0), ('invalidated', 3), ('featuresHit', [('CDS', ['CpFAH12_codoptYL'])]), ('effect', ['Frame shift'])]), OrderedDict([('plasmid_pos', 2981.0), ('sample_pos', nan), ('plasmid_chr', 'G'), ('sample_chr', '-'), ('quality', nan), ('sample', 'FR14453232'), ('primer', '20692'), ('type', 'deletion'), ('avgQuality', 'high'), ('confirmed', 0), ('invalidated', 3), ('featuresHit', [('CDS', ['CpFAH12_codoptYL'])]), ('effect', ['Frame shift'])]), OrderedDict([('plasmid_pos', nan), ('sample_pos', 848.0), ('plasmid_chr', '-'), ('sample_chr', 'A'), ('quality', 40.0), ('sample', 'FR14453232'), ('primer', '20692'), ('type', 'insertion'), ('avgQuality', 'high'), ('confirmed', 0), ('invalidated', 3), ('featuresHit', [('CDS', ['CpFAH12_codoptYL'])]), ('effect', ['Frame shift'])])]\n",
      "[OrderedDict([('plasmid_pos', 2684), ('sample_pos', 48), ('plasmid_chr', 'C'), ('sample_chr', 'T'), ('quality', 56), ('sample', 'FR14453233'), ('primer', '14619'), ('type', 'change'), ('avgQuality', 'high'), ('confirmed', 0), ('invalidated', 2), ('featuresHit', [('terminator', ['TPex20'])]), ('effect', [])])]\n",
      "[]\n"
     ]
    }
   ],
   "source": [
    "for r in report[\"samples\"]:\n",
    "    print(r[\"conflicts\"])"
   ]
  }
 ],
 "metadata": {
  "kernelspec": {
   "display_name": "Python 3",
   "language": "python",
   "name": "python3"
  },
  "language_info": {
   "codemirror_mode": {
    "name": "ipython",
    "version": 3
   },
   "file_extension": ".py",
   "mimetype": "text/x-python",
   "name": "python",
   "nbconvert_exporter": "python",
   "pygments_lexer": "ipython3",
   "version": "3.6.5"
  },
  "toc": {
   "base_numbering": 1,
   "nav_menu": {},
   "number_sections": false,
   "sideBar": true,
   "skip_h1_title": true,
   "title_cell": "Table of Contents",
   "title_sidebar": "Table of Contents",
   "toc_cell": false,
   "toc_position": {
    "height": "978px",
    "left": "0px",
    "right": "1708px",
    "top": "111px",
    "width": "212px"
   },
   "toc_section_display": "block",
   "toc_window_display": true
  }
 },
 "nbformat": 4,
 "nbformat_minor": 2
}
